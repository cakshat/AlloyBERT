{
 "cells": [
  {
   "cell_type": "code",
   "execution_count": 1,
   "metadata": {},
   "outputs": [],
   "source": [
    "import pandas as pd\n",
    "import numpy as np"
   ]
  },
  {
   "cell_type": "code",
   "execution_count": 2,
   "metadata": {},
   "outputs": [],
   "source": [
    "df = pd.read_csv('./MPEA_dataset.csv')\n",
    "df = df[pd.notna(df['PROPERTY: Calculated Young modulus (GPa)'])]   # 729 Rows"
   ]
  },
  {
   "cell_type": "code",
   "execution_count": 3,
   "metadata": {},
   "outputs": [],
   "source": [
    "# Irrelevant\n",
    "df.drop('REFERENCE: doi', axis=1, inplace=True)\n",
    "df.drop('REFERENCE: year', axis=1, inplace=True)\n",
    "df.drop('REFERENCE: title', axis=1, inplace=True)\n",
    "df.drop('IDENTIFIER: Reference ID', axis=1, inplace=True)"
   ]
  },
  {
   "cell_type": "code",
   "execution_count": 4,
   "metadata": {},
   "outputs": [],
   "source": [
    "df.to_csv('./data/MPEA.csv')"
   ]
  },
  {
   "cell_type": "code",
   "execution_count": 4,
   "metadata": {},
   "outputs": [
    {
     "name": "stdout",
     "output_type": "stream",
     "text": [
      "FORMULA -> 729\n",
      "PROPERTY: Microstructure -> 729\n",
      "PROPERTY: Processing method -> 711\n",
      "PROPERTY: BCC/FCC/other -> 729\n",
      "PROPERTY: grain size ($\\mu$m) -> 138\n",
      "PROPERTY: Exp. Density (g/cm$^3$) -> 51\n",
      "PROPERTY: Calculated Density (g/cm$^3$) -> 729\n",
      "PROPERTY: HV -> 179\n",
      "PROPERTY: Type of test -> 589\n",
      "PROPERTY: Test temperature ($^\\circ$C) -> 687\n",
      "PROPERTY: YS (MPa) -> 555\n",
      "PROPERTY: UTS (MPa) -> 257\n",
      "PROPERTY: Elongation (%) -> 298\n",
      "PROPERTY: Elongation plastic (%) -> 62\n",
      "PROPERTY: Exp. Young modulus (GPa) -> 107\n",
      "PROPERTY: Calculated Young modulus (GPa) -> 729\n",
      "PROPERTY: O content (wppm) -> 45\n",
      "PROPERTY: N content (wppm) -> 37\n",
      "PROPERTY: C content (wppm) -> 1\n"
     ]
    }
   ],
   "source": [
    "cols = []\n",
    "for col in df:\n",
    "    nonNaNcount = len(df[col]) - df[col].isna().sum()\n",
    "    print(col, '->', nonNaNcount)\n",
    "    cols.append(nonNaNcount)"
   ]
  },
  {
   "cell_type": "code",
   "execution_count": 5,
   "metadata": {},
   "outputs": [
    {
     "name": "stdout",
     "output_type": "stream",
     "text": [
      "[1, 37, 45, 51, 62, 107, 138, 179, 257, 298, 555, 589, 687, 711, 729, 729, 729, 729, 729]\n"
     ]
    }
   ],
   "source": [
    "print(sorted(cols))"
   ]
  },
  {
   "cell_type": "code",
   "execution_count": 6,
   "metadata": {},
   "outputs": [],
   "source": [
    "# Not enough values\n",
    "df.drop('PROPERTY: C content (wppm)', axis=1, inplace=True) # 1\n",
    "df.drop('PROPERTY: N content (wppm)', axis=1, inplace=True) # 37\n",
    "df.drop('PROPERTY: O content (wppm)', axis=1, inplace=True) # 45\n",
    "df.drop('PROPERTY: Exp. Density (g/cm$^3$)', axis=1, inplace=True) # 51\n",
    "df.drop('PROPERTY: Elongation plastic (%)', axis=1, inplace=True) # 62\n",
    "df.drop('PROPERTY: Exp. Young modulus (GPa)', axis=1, inplace=True) # 107\n",
    "df.drop('PROPERTY: grain size ($\\mu$m)', axis=1, inplace=True) # 138\n",
    "df.drop('PROPERTY: HV', axis=1, inplace=True) # 179\n",
    "df.drop('PROPERTY: UTS (MPa)', axis=1, inplace=True) # 257\n",
    "df.drop('PROPERTY: Elongation (%)', axis=1, inplace=True) # 298\n",
    "# df.drop('YS (MPa)', axis=1, inplace=True) # 555\n",
    "# df.drop('Type of test', axis=1, inplace=True) # 589"
   ]
  },
  {
   "cell_type": "code",
   "execution_count": 7,
   "metadata": {},
   "outputs": [
    {
     "name": "stdout",
     "output_type": "stream",
     "text": [
      "True\n"
     ]
    }
   ],
   "source": [
    "print(all(df['PROPERTY: BCC/FCC/other'] == df['PROPERTY: Microstructure']))\n",
    "df.drop('PROPERTY: BCC/FCC/other', axis=1, inplace=True)"
   ]
  },
  {
   "cell_type": "code",
   "execution_count": 8,
   "metadata": {},
   "outputs": [],
   "source": [
    "df.dropna(inplace=True) # 553 Rows"
   ]
  },
  {
   "cell_type": "code",
   "execution_count": 9,
   "metadata": {},
   "outputs": [
    {
     "name": "stdout",
     "output_type": "stream",
     "text": [
      "Index(['FORMULA', 'PROPERTY: Microstructure', 'PROPERTY: Processing method',\n",
      "       'PROPERTY: Calculated Density (g/cm$^3$)', 'PROPERTY: Type of test',\n",
      "       'PROPERTY: Test temperature ($^\\circ$C)', 'PROPERTY: YS (MPa)',\n",
      "       'PROPERTY: Calculated Young modulus (GPa)'],\n",
      "      dtype='object')\n",
      "8\n"
     ]
    }
   ],
   "source": [
    "print(df.keys()); print(len(df.keys()))"
   ]
  },
  {
   "cell_type": "code",
   "execution_count": 10,
   "metadata": {},
   "outputs": [],
   "source": [
    "df.to_csv('./data/MPEA_clean.csv')"
   ]
  },
  {
   "cell_type": "code",
   "execution_count": 12,
   "metadata": {},
   "outputs": [
    {
     "data": {
      "text/plain": [
       "FORMULA                                      object\n",
       "PROPERTY: Microstructure                     object\n",
       "PROPERTY: Processing method                  object\n",
       "PROPERTY: Calculated Density (g/cm$^3$)     float64\n",
       "PROPERTY: Type of test                       object\n",
       "PROPERTY: Test temperature ($^\\circ$C)      float64\n",
       "PROPERTY: YS (MPa)                          float64\n",
       "PROPERTY: Calculated Young modulus (GPa)    float64\n",
       "dtype: object"
      ]
     },
     "execution_count": 12,
     "metadata": {},
     "output_type": "execute_result"
    }
   ],
   "source": [
    "df.dtypes"
   ]
  },
  {
   "cell_type": "code",
   "execution_count": 12,
   "metadata": {},
   "outputs": [
    {
     "name": "stdout",
     "output_type": "stream",
     "text": [
      "PROPERTY: Type of test\n",
      "C    378\n",
      "T    175\n",
      "Name: count, dtype: int64\n"
     ]
    }
   ],
   "source": [
    "print(pd.value_counts(df['PROPERTY: Type of test']))\n",
    "\n",
    "df['PROPERTY: Type of test::C'] = pd.Series(df['PROPERTY: Type of test'] == 'C', dtype=int)\n",
    "df['PROPERTY: Type of test::T'] = pd.Series(df['PROPERTY: Type of test'] == 'T', dtype=int)\n",
    "\n",
    "df.drop('PROPERTY: Type of test', axis=1, inplace=True)"
   ]
  },
  {
   "cell_type": "code",
   "execution_count": 14,
   "metadata": {},
   "outputs": [
    {
     "name": "stdout",
     "output_type": "stream",
     "text": [
      "PROPERTY: Processing method\n",
      "CAST       239\n",
      "WROUGHT    153\n",
      "ANNEAL      97\n",
      "OTHER       59\n",
      "POWDER       5\n",
      "Name: count, dtype: int64\n"
     ]
    }
   ],
   "source": [
    "print(pd.value_counts(df['PROPERTY: Processing method']))\n",
    "\n",
    "df['PROPERTY: Processing method::CAST'] = pd.Series(df['PROPERTY: Processing method'] == 'CAST', dtype=int)\n",
    "df['PROPERTY: Processing method::WROUGHT'] = pd.Series(df['PROPERTY: Processing method'] == 'WROUGHT', dtype=int)\n",
    "df['PROPERTY: Processing method::ANNEAL'] = pd.Series(df['PROPERTY: Processing method'] == 'ANNEAL', dtype=int)\n",
    "df['PROPERTY: Processing method::OTHER'] = pd.Series(df['PROPERTY: Processing method'] == 'OTHER', dtype=int)\n",
    "df['PROPERTY: Processing method::POWDER'] = pd.Series(df['PROPERTY: Processing method'] == 'POWDER', dtype=int)\n",
    "\n",
    "df.drop('PROPERTY: Processing method', axis=1, inplace=True)"
   ]
  },
  {
   "cell_type": "code",
   "execution_count": 17,
   "metadata": {},
   "outputs": [
    {
     "name": "stdout",
     "output_type": "stream",
     "text": [
      "PROPERTY: Microstructure\n",
      "BCC    372\n",
      "FCC    181\n",
      "Name: count, dtype: int64\n"
     ]
    }
   ],
   "source": [
    "print(pd.value_counts(df['PROPERTY: Microstructure']))\n",
    "\n",
    "df['PROPERTY: Microstructure::BCC'] = pd.Series(df['PROPERTY: Microstructure'] == 'BCC', dtype=int)\n",
    "df['PROPERTY: Microstructure::FCC'] = pd.Series(df['PROPERTY: Microstructure'] == 'FCC', dtype=int)\n",
    "\n",
    "df.drop('PROPERTY: Microstructure', axis=1, inplace=True)"
   ]
  },
  {
   "cell_type": "code",
   "execution_count": 55,
   "metadata": {},
   "outputs": [
    {
     "name": "stdout",
     "output_type": "stream",
     "text": [
      "{'Al': 0, 'Co': 1, 'Fe': 2, 'Ni': 3, 'Si': 4, 'Cr': 5, 'Mn': 6, 'Mo': 7, 'Nb': 8, 'Cu': 9, 'Ti': 10, 'V': 11, 'Ta': 12, 'Zr': 13, 'Hf': 14, 'W': 15, 'Zn': 16, 'Re': 17, 'Mg': 18}\n"
     ]
    }
   ],
   "source": [
    "elementsToIdx = {}\n",
    "idx = 0\n",
    "\n",
    "for formula in df['FORMULA'].values:\n",
    "    for f in formula.split(' '):\n",
    "        i = 2 if str.isalpha(f[1]) else 1\n",
    "        elem = f[:i]\n",
    "        if elem not in elementsToIdx:\n",
    "            elementsToIdx[elem] = idx\n",
    "            idx += 1\n",
    "\n",
    "print(elementsToIdx)"
   ]
  },
  {
   "cell_type": "code",
   "execution_count": 70,
   "metadata": {},
   "outputs": [],
   "source": [
    "elemsArrays = []\n",
    "totaElems = len(elementsToIdx.keys())\n",
    "\n",
    "for formula in df['FORMULA'].values:\n",
    "    elems = np.zeros(totaElems, dtype=np.float16)\n",
    "    for f in formula.split(' '):\n",
    "        i = 2 if str.isalpha(f[1]) else 1\n",
    "        elem, comp = f[:i], float(f[i:])\n",
    "        elems[elementsToIdx[elem]] = comp\n",
    "    elemsArrays.append(elems)\n",
    "\n",
    "elemsArrays = np.vstack(elemsArrays)"
   ]
  },
  {
   "cell_type": "code",
   "execution_count": 71,
   "metadata": {},
   "outputs": [],
   "source": [
    "for elem, idx in elementsToIdx.items():\n",
    "    df[f'FORMULA::{elem}'] = elemsArrays[:, idx]\n",
    "\n",
    "df.drop('FORMULA', axis=1, inplace=True)"
   ]
  },
  {
   "cell_type": "code",
   "execution_count": 72,
   "metadata": {},
   "outputs": [],
   "source": [
    "df.to_csv('./data/MPEA_numeric.csv')"
   ]
  }
 ],
 "metadata": {
  "kernelspec": {
   "display_name": "venv",
   "language": "python",
   "name": "python3"
  },
  "language_info": {
   "codemirror_mode": {
    "name": "ipython",
    "version": 3
   },
   "file_extension": ".py",
   "mimetype": "text/x-python",
   "name": "python",
   "nbconvert_exporter": "python",
   "pygments_lexer": "ipython3",
   "version": "3.10.12"
  }
 },
 "nbformat": 4,
 "nbformat_minor": 2
}
