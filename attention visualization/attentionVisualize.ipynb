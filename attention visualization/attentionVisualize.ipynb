{
 "cells": [
  {
   "cell_type": "code",
   "execution_count": 1,
   "metadata": {},
   "outputs": [],
   "source": [
    "import pandas as pd\n",
    "\n",
    "df_MPEA = pd.read_pickle(r\"C:\\Akshat\\CMU\\Academic\\Fall 2023\\MAIL Project\\AlBERTA\\MPEA_3_sets\\tr1.pkl\")\n",
    "df_YS = pd.read_pickle(r\"C:\\Akshat\\CMU\\Academic\\Fall 2023\\MAIL Project\\AlBERTA\\ys_clean_3_sets\\tr1.pkl\")"
   ]
  },
  {
   "cell_type": "code",
   "execution_count": 2,
   "metadata": {},
   "outputs": [
    {
     "name": "stdout",
     "output_type": "stream",
     "text": [
      "Alloy's formula is Mo1 Nb1 Ta1 V1 W1.Alloy has 1.0 atoms of Mo.Molybdenum, atomic number 42, atomic mass 95.95 u. Density 10.22 g/cm³, melts at 2623°C. BCC structure, Young's Modulus ≈ 329 GPa.Alloy has 1.0 atoms of Nb.Niobium, atomic number 41, atomic mass 92.91 u. Density 8.57 g/cm³, melts at 2468°C. BCC structure, Young's Modulus ≈ 105 GPa.Alloy has 1.0 atoms of Ta.Tantalum, atomic number 73, atomic mass 180.95 u. Density 16.65 g/cm³, melts at 3290°C. BCC structure, Young's Modulus ≈ 200 GPa.Alloy has 1.0 atoms of V.Vanadium, atomic number 23, atomic mass 50.94 u. Density 6.11 g/cm³, melts at 1910°C. BCC structure, Young's Modulus ≈ 128 GPa.Alloy has 1.0 atoms of W.Tungsten, atomic number 74, atomic mass 183.84 u. Density 19.25 g/cm³, melts at 3422°C. BCC structure, Young's Modulus ≈ 411 GPa.Microstructure of alloy is BCC.Atoms arranged in a cube with one at each corner and one at the center. Packing density than FCC ~68%.Processing method of the alloy is OTHER.The alloy is BCC.Experimental density of the alloy is 12.29 g/cm^3.Calculated density of the alloy is 12.4 g/cm^3.The alloy was tested in C test.Alloy as tested at 23.0 Celsius.Yield Strength (YS) of alloy is 1246.0MPa.\n",
      "Test temperature: 1922.038889 K.Solidus temperature: 3650.82516 K.W composition: 0.9703249374307252. Tungsten (Atomic # 74, Weight 183.84, Young's Modulus 411 GPa, Microstructure BCC, Melting Point 3422 °C)Nb composition: 1.9794514598817563e-06. Niobium (Atomic # 41, Weight 92.91, Young's Modulus 105 GPa, Microstructure BCC, Melting Point 2468 °C)Hf composition: 1.030330379983916e-06. Hafnium (Atomic # 72, Weight 178.49, Young's Modulus 78 GPa, Microstructure HCP, Melting Point 2233 °C)Mo composition: 1.916661485391654e-06. Molybdenum (Atomic # 42, Weight 95.95, Young's Modulus 329 GPa, Microstructure BCC, Melting Point 2623 °C)Re composition: 0.0296289080738096. Rhenium (Atomic # 75, Weight 186.21, Young's Modulus 463 GPa, Microstructure HCP, Melting Point 3186 °C)Zr composition: 2.015957089398943e-06. Zirconium (Atomic # 40, Weight 91.22, Young's Modulus 98 GPa, Microstructure HCP, Melting Point 1855 °C)Ta composition: 1.016335032625578e-06. Tantalum (Atomic # 73, Weight 180.95, Young's Modulus 186 GPa, Microstructure BCC, Melting Point 2996 °C)Ti composition: 3.841971912242864e-06. Titanium (Atomic # 22, Weight 47.87, Young's Modulus 116 GPa, Microstructure HCP, Melting Point 1668 °C)C composition: 1.531127046235361e-05. Carbon (Atomic # 6, Weight 12.01, Young's Modulus Varies, Microstructure Varies, Melting Point Sublimation around 3915 °C for diamond)Y composition: 2.0685215823630188e-06. Yttrium (Atomic # 39, Weight 88.91, Young's Modulus 63 GPa, Microstructure HCP, Melting Point 1799 °C)Al composition: 6.8159073329111865e-06. Aluminum (Atomic # 13, Weight 26.98, Young's Modulus 69 GPa, Microstructure FCC, Melting Point 660.3 °C)Si composition: 6.547993431604535e-06. Silicon (Atomic # 14, Weight 28.09, Young's Modulus 130 GPa, Microstructure Diamond cubic, Melting Point 1414 °C)V composition: 3.610095296042111e-06. Vanadium (Atomic # 23, Weight 50.94, Young's Modulus 128 GPa, Microstructure BCC, Melting Point 1910 °C)\n"
     ]
    }
   ],
   "source": [
    "print(df_MPEA['text'][0])\n",
    "print(df_YS['text'][0])\n"
   ]
  },
  {
   "cell_type": "code",
   "execution_count": 3,
   "metadata": {},
   "outputs": [
    {
     "name": "stderr",
     "output_type": "stream",
     "text": [
      "c:\\Users\\619ar\\anaconda3\\lib\\site-packages\\transformers\\utils\\generic.py:311: UserWarning: torch.utils._pytree._register_pytree_node is deprecated. Please use torch.utils._pytree.register_pytree_node instead.\n",
      "  torch.utils._pytree._register_pytree_node(\n"
     ]
    },
    {
     "name": "stdout",
     "output_type": "stream",
     "text": [
      "Pretrained Checkpoint Loaded\n"
     ]
    }
   ],
   "source": [
    "from mainAV import AttentionVisualizer as av"
   ]
  },
  {
   "cell_type": "code",
   "execution_count": 4,
   "metadata": {},
   "outputs": [
    {
     "name": "stderr",
     "output_type": "stream",
     "text": [
      "[nltk_data] Downloading package stopwords to\n",
      "[nltk_data]     C:\\Users\\619ar\\AppData\\Roaming\\nltk_data...\n",
      "[nltk_data]   Package stopwords is already up-to-date!\n"
     ]
    },
    {
     "data": {
      "application/vnd.jupyter.widget-view+json": {
       "model_id": "f02eb663fec94fde8b3a792b52e534bb",
       "version_major": 2,
       "version_minor": 0
      },
      "text/plain": [
       "VBox(children=(VBox(children=(HTML(value='<h3>Step 1:</h3> Write the input text in the box below.'), Textarea(…"
      ]
     },
     "metadata": {},
     "output_type": "display_data"
    }
   ],
   "source": [
    "obj = av()\n",
    "obj.show_controllers(with_sample=True)"
   ]
  },
  {
   "cell_type": "markdown",
   "metadata": {},
   "source": []
  }
 ],
 "metadata": {
  "kernelspec": {
   "display_name": "base",
   "language": "python",
   "name": "python3"
  },
  "language_info": {
   "codemirror_mode": {
    "name": "ipython",
    "version": 3
   },
   "file_extension": ".py",
   "mimetype": "text/x-python",
   "name": "python",
   "nbconvert_exporter": "python",
   "pygments_lexer": "ipython3",
   "version": "3.10.11"
  }
 },
 "nbformat": 4,
 "nbformat_minor": 2
}
